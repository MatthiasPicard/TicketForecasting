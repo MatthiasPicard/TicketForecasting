{
 "cells": [
  {
   "cell_type": "markdown",
   "id": "34216f2d",
   "metadata": {},
   "source": [
    "# ANALYSE PAR TYPE DES TICKETS"
   ]
  },
  {
   "cell_type": "markdown",
   "id": "f131c42d",
   "metadata": {},
   "source": [
    "**C'est un notebook où je teste des choses, les codes que j'ai utilisés et que j'ai présentés dans mon ppt et dans mon rapport sont dans le notebook \"analyse de la source des tickets\"**"
   ]
  },
  {
   "cell_type": "markdown",
   "id": "4007eb29",
   "metadata": {},
   "source": [
    "### imports des modules et du dataset"
   ]
  },
  {
   "cell_type": "code",
   "execution_count": null,
   "id": "67e80704",
   "metadata": {},
   "outputs": [],
   "source": [
    "import numpy as np\n",
    "import os\n",
    "import seaborn as sns\n",
    "import pandas as pd\n",
    "import matplotlib.pyplot as plt\n",
    "import warnings\n",
    "from prophet import Prophet\n",
    "import statsmodels.api as sm\n",
    "from sklearn.metrics import mean_squared_error,mean_absolute_percentage_error, mean_absolute_error\n",
    "warnings.filterwarnings(\"ignore\")\n",
    "from pmdarima import auto_arima\n",
    "from statsmodels.tsa.seasonal import seasonal_decompose\n",
    "from statsmodels.tsa.stattools import adfuller\n",
    "from statsmodels.tsa.arima_model import ARIMA\n",
    "import math\n",
    "from statsmodels.tsa.statespace.sarimax import SARIMAX \n",
    "from pmdarima import auto_arima\n",
    "import xgboost as xgb\n",
    "from xgboost import plot_importance, plot_tree\n",
    "from pandas.plotting import autocorrelation_plot"
   ]
  },
  {
   "cell_type": "code",
   "execution_count": null,
   "id": "71533349",
   "metadata": {},
   "outputs": [],
   "source": [
    "os.chdir('C:\\\\Users\\\\matthias.picard\\\\Downloads\\\\données consort')\n",
    "statique=pd.read_excel('Static_data.xlsx')"
   ]
  },
  {
   "cell_type": "code",
   "execution_count": null,
   "id": "a9a92678",
   "metadata": {},
   "outputs": [],
   "source": [
    "statique.head()"
   ]
  },
  {
   "cell_type": "markdown",
   "id": "54dad811",
   "metadata": {},
   "source": [
    "Nous allons extraire de cette base de données le nombre de tickets par jour/heures/demi-journées. Notre repère temporel sera la colonne Date_deb "
   ]
  },
  {
   "cell_type": "markdown",
   "id": "dbf5e218",
   "metadata": {},
   "source": [
    "### Préparation des données"
   ]
  },
  {
   "cell_type": "markdown",
   "id": "2ffc6fb3",
   "metadata": {},
   "source": [
    "#### preparation de la colonne 'Date_deb'"
   ]
  },
  {
   "cell_type": "code",
   "execution_count": null,
   "id": "63a9458d",
   "metadata": {},
   "outputs": [],
   "source": [
    "statique.drop(np.arange(97253,97970,1), inplace=True)"
   ]
  },
  {
   "cell_type": "markdown",
   "id": "27c3a242",
   "metadata": {},
   "source": [
    "entre les lignes 97253 et 97970 de la colonne Date_deb on ne retrouve que des nan. On est obligé de les enlever pour convertir la colonne en DateTime et s'en servir comme index temporelle"
   ]
  },
  {
   "cell_type": "code",
   "execution_count": null,
   "id": "59740f5e",
   "metadata": {},
   "outputs": [],
   "source": [
    "statique['Date_deb']=pd.to_datetime(statique['Date_deb'])\n",
    "\n",
    "statique_heures=statique.copy()\n",
    "statique_heures['Date_deb'] = statique_heures.Date_deb.dt.floor(freq='H') \n",
    "statique_heures.set_index('Date_deb',inplace=True)\n",
    "\n",
    "\n",
    "statique_demijours=statique.copy()\n",
    "statique_demijours['Date_deb'] = statique_demijours.Date_deb.dt.floor(freq='12h') \n",
    "statique_demijours.set_index('Date_deb',inplace=True)\n",
    "\n",
    "\n",
    "statique_jours=statique.copy()\n",
    "statique_jours['Date_deb'] = statique_jours.Date_deb.dt.floor(freq='D') \n",
    "statique_jours.set_index('Date_deb',inplace=True)"
   ]
  },
  {
   "cell_type": "markdown",
   "id": "e3006b24",
   "metadata": {},
   "source": [
    "on crée plusieurs dataset selon en regroupant les tickets selon leurs heures/jours/dates de créations"
   ]
  },
  {
   "cell_type": "markdown",
   "id": "4bb821ee",
   "metadata": {},
   "source": [
    "### Dynamique des types de tickets par jours"
   ]
  },
  {
   "cell_type": "code",
   "execution_count": null,
   "id": "3adba0bb",
   "metadata": {},
   "outputs": [],
   "source": [
    "statique_jours_demandes=statique_jours[statique_jours['Type_Ticket']=='Demande']\n",
    "statique_jours_incidents=statique_jours[statique_jours['Type_Ticket']!='Demande']"
   ]
  },
  {
   "cell_type": "markdown",
   "id": "f11d35eb",
   "metadata": {},
   "source": [
    "On va commencer à s'interesser à création de ticket demandes et tickets incidents par jours."
   ]
  },
  {
   "cell_type": "code",
   "execution_count": null,
   "id": "b2716811",
   "metadata": {
    "scrolled": true
   },
   "outputs": [],
   "source": [
    "nb_ticket_jours_demandes=pd.DataFrame(statique_jours_demandes.index.value_counts())\n",
    "ticket_jours_demandes=nb_ticket_jours_demandes.reset_index().sort_values(by='index').set_index('index').asfreq('d')\n",
    "ticket_jours_demandes[ticket_jours_demandes.isna()]=0\n",
    "ticket_jours_demandes.rename(columns={'Date_deb':'nb_tickets'},inplace=True)\n",
    "ticket_jours_demandes"
   ]
  },
  {
   "cell_type": "markdown",
   "id": "ae486a4b",
   "metadata": {},
   "source": [
    "On obtient ici un dataset du nombre de tickets demandes crée chaques jours entre le 2011/10/17 et le 2020-09-29"
   ]
  },
  {
   "cell_type": "code",
   "execution_count": null,
   "id": "08d0d9f4",
   "metadata": {
    "scrolled": true
   },
   "outputs": [],
   "source": [
    "nb_ticket_jours_incidents=pd.DataFrame(statique_jours_incidents.index.value_counts())\n",
    "ticket_jours_incidents=nb_ticket_jours_incidents.reset_index().sort_values(by='index').set_index('index').asfreq('d')\n",
    "ticket_jours_incidents[ticket_jours_incidents.isna()]=0\n",
    "ticket_jours_incidents.rename(columns={'Date_deb':'nb_tickets'},inplace=True)\n",
    "ticket_jours_incidents"
   ]
  },
  {
   "cell_type": "markdown",
   "id": "b0c67edd",
   "metadata": {},
   "source": [
    "Pareil mais pour les tickets incidents"
   ]
  },
  {
   "cell_type": "code",
   "execution_count": null,
   "id": "c0d5e894",
   "metadata": {
    "scrolled": true
   },
   "outputs": [],
   "source": [
    "plt.figure()\n",
    "\n",
    "ticket_jours_incidents.plot(c='blue',label='incidents')\n",
    "ticket_jours_demandes.plot(c='red',label='demandes')\n",
    "plt.legend()"
   ]
  },
  {
   "cell_type": "markdown",
   "id": "65226ba8",
   "metadata": {},
   "source": [
    "Le premier graphique montre la répartition des incidents au cours du temps. La dynamique est assez différentes de celle du graphe avec l'ensemble des tickets: la tendance n'est pas linéaire (peu d'incident entre 2016 et 2018), et on peut constater la présence de nombreux pics d'incidents.\n",
    "\n",
    "Le graphe des demandes ressemble beaucoup plus à celui avec tout les types de tickets ( nottament parce que l'on trouve plus de demande que d'incidents: 96832 pour 29970)."
   ]
  },
  {
   "cell_type": "markdown",
   "id": "005658b3",
   "metadata": {},
   "source": [
    "Regardons ce qu'il se passe durant la période ou le nombre d'incident semble anormalement bas:"
   ]
  },
  {
   "cell_type": "markdown",
   "id": "03b22c09",
   "metadata": {},
   "source": [
    "### Analyse des incidents entre 2016 et 2018"
   ]
  },
  {
   "cell_type": "markdown",
   "id": "e37c7436",
   "metadata": {},
   "source": [
    "#### value_counts des sources"
   ]
  },
  {
   "cell_type": "code",
   "execution_count": null,
   "id": "b26fc305",
   "metadata": {
    "scrolled": true
   },
   "outputs": [],
   "source": [
    "sns.barplot(data=pd.DataFrame(statique_jours_incidents.Source.value_counts().reset_index()),\n",
    "            x='index',\n",
    "            y='Source',color='red')"
   ]
  },
  {
   "cell_type": "code",
   "execution_count": null,
   "id": "23a8821e",
   "metadata": {},
   "outputs": [],
   "source": [
    "statique_jours_incidents.Source.value_counts()"
   ]
  },
  {
   "cell_type": "code",
   "execution_count": null,
   "id": "c2e01568",
   "metadata": {
    "scrolled": false
   },
   "outputs": [],
   "source": [
    "sns.barplot(data=pd.DataFrame(statique_jours_incidents.loc['2015/06':'2018/04',:].Source.value_counts().reset_index()),\n",
    "            x='index',\n",
    "            y='Source',color='red')"
   ]
  },
  {
   "cell_type": "code",
   "execution_count": null,
   "id": "36e5cb9f",
   "metadata": {},
   "outputs": [],
   "source": [
    "statique_jours_incidents.loc['2015/06':'2018/04',:].Source.value_counts()"
   ]
  },
  {
   "cell_type": "markdown",
   "id": "12673952",
   "metadata": {},
   "source": [
    "les mails sont quasi-inexistants dans la periode, et on ne trouve personne qui à utiliser MyA"
   ]
  },
  {
   "cell_type": "markdown",
   "id": "6dd66a10",
   "metadata": {},
   "source": [
    "#### value_counts des Entités"
   ]
  },
  {
   "cell_type": "code",
   "execution_count": null,
   "id": "5f522db3",
   "metadata": {},
   "outputs": [],
   "source": [
    "sns.barplot(data=pd.DataFrame(statique_jours_incidents.Entite.value_counts().reset_index()),\n",
    "            x='index',\n",
    "            y='Entite',color='blue')"
   ]
  },
  {
   "cell_type": "code",
   "execution_count": null,
   "id": "d7f4104f",
   "metadata": {},
   "outputs": [],
   "source": [
    "statique_jours_incidents.Entite.value_counts()"
   ]
  },
  {
   "cell_type": "code",
   "execution_count": null,
   "id": "f49aed3b",
   "metadata": {},
   "outputs": [],
   "source": [
    "sns.barplot(data=pd.DataFrame(statique_jours_incidents.loc['2015/06':'2018/04',:].Entite.value_counts().reset_index()),\n",
    "            x='index',\n",
    "            y='Entite',color='blue')"
   ]
  },
  {
   "cell_type": "code",
   "execution_count": null,
   "id": "ffcb7f9b",
   "metadata": {
    "scrolled": false
   },
   "outputs": [],
   "source": [
    "statique_jours_incidents.loc['2015/06':'2018/04',:].Entite.value_counts()"
   ]
  },
  {
   "cell_type": "code",
   "execution_count": null,
   "id": "45dd5763",
   "metadata": {
    "scrolled": false
   },
   "outputs": [],
   "source": [
    "sns.barplot(statique_jours_incidents.loc['2015/06':'2018/04',:].Entite.hist()"
   ]
  },
  {
   "cell_type": "markdown",
   "id": "d6265e01",
   "metadata": {},
   "source": [
    "Pas vraiment de changement significatfs lorsque l'on s'interressent aux entités concernées par les incidents signalés dans la période"
   ]
  },
  {
   "cell_type": "markdown",
   "id": "96458599",
   "metadata": {},
   "source": [
    "## tests de modèles"
   ]
  },
  {
   "cell_type": "markdown",
   "id": "29ad30ca",
   "metadata": {},
   "source": [
    "**Pour tout nos modèles on essayera d'appliquer nos prédictions sur la période juillet-septembre (et pas avant, pour éviter la période du confinement, qui n'est pas représentative)**"
   ]
  },
  {
   "cell_type": "markdown",
   "id": "87328719",
   "metadata": {},
   "source": [
    "Commençons par appliquer des modèles Prophet sans tuning aux incidents et aux demandes"
   ]
  },
  {
   "cell_type": "markdown",
   "id": "9eb4ab81",
   "metadata": {},
   "source": [
    "### Prophet (simple) __incidents"
   ]
  },
  {
   "cell_type": "code",
   "execution_count": null,
   "id": "5c41f8e2",
   "metadata": {},
   "outputs": [],
   "source": [
    "ticket_jours_incidents_prophet=ticket_jours_incidents.reset_index().rename(columns={'index':'ds','nb_tickets':'y'})\n",
    "\n",
    "trainset_simple_incidents_prophet=ticket_jours_incidents_prophet.loc[:'3100',:]\n",
    "testset_simple_incidents_prophet=ticket_jours_incidents_prophet.loc['3100':,:]\n"
   ]
  },
  {
   "cell_type": "code",
   "execution_count": null,
   "id": "1d0e865b",
   "metadata": {},
   "outputs": [],
   "source": [
    "model_simple_incidents_prophet = Prophet(daily_seasonality=False)\n",
    "model_simple_incidents_prophet.fit(trainset_simple_incidents_prophet)\n",
    "future_simple_incidents_prophet = model_simple_incidents_prophet.make_future_dataframe(periods=91)\n",
    "forecast_simple_incidents_prophet = model_simple_incidents_prophet.predict(future_simple_incidents_prophet)"
   ]
  },
  {
   "cell_type": "code",
   "execution_count": null,
   "id": "2af6d9a6",
   "metadata": {
    "scrolled": false
   },
   "outputs": [],
   "source": [
    "model_simple_incidents_prophet.plot(forecast_simple_incidents_prophet)"
   ]
  },
  {
   "cell_type": "markdown",
   "id": "0bf90f5d",
   "metadata": {},
   "source": [
    "la période de 2016-2018 trouble la tendance general (il faudra peut-etre la modifier...)"
   ]
  },
  {
   "cell_type": "code",
   "execution_count": null,
   "id": "bcf9e826",
   "metadata": {
    "scrolled": true
   },
   "outputs": [],
   "source": [
    "model_simple_incidents_prophet.plot_components(forecast_simple_incidents_prophet)"
   ]
  },
  {
   "cell_type": "code",
   "execution_count": null,
   "id": "199c2efa",
   "metadata": {},
   "outputs": [],
   "source": [
    "predictions_simple_incidents_prophet=pd.DataFrame(forecast_simple_incidents_prophet.loc[3101:,'yhat'])\n",
    "predictions_simple_incidents_prophet.set_index(testset_simple_incidents_prophet['ds'],inplace=True)\n",
    "plt.figure()\n",
    "predictions_simple_incidents_prophet['yhat'].plot(c='yellow',label='predictions')\n",
    "plt.plot(testset_simple_incidents_prophet['ds'],testset_simple_incidents_prophet['y'],c='blue',label='vraies valeurs')\n",
    "plt.legend()"
   ]
  },
  {
   "cell_type": "code",
   "execution_count": null,
   "id": "e1294e61",
   "metadata": {},
   "outputs": [],
   "source": [
    "(mean_squared_error(predictions_simple_incidents_prophet['yhat'],testset_simple_incidents_prophet['y']),\n",
    "mean_absolute_percentage_error(predictions_simple_incidents_prophet['yhat'],testset_simple_incidents_prophet['y']))"
   ]
  },
  {
   "cell_type": "markdown",
   "id": "c9590cb7",
   "metadata": {},
   "source": [
    "En moyenne 55 % d'erreur entre la prédiction et la vrai valeur....\n",
    "\n",
    "Sur la detection d'incidents Prophet  semble plutôt bien suivre la tendance géneral au cours de l'année (moins d'incidents en aout, plus d'incident en septembre...). Mais il ne prend pas en compte la saisonnalité par semaine ( il ya très souvent un pic en début de semaine, mais Prophet sous-estime souvent ce pic). Il a aussi souvent tendance à surestimer les incidents le week-end (augmenter l'impact de la saisonnalité par semaine?)\n",
    "\n",
    "On peut aussi remarquer que ces pics sont beaucoup moins présent le mois d'août. Doit-on rajouter une saisonnalité liée aux vacances? "
   ]
  },
  {
   "cell_type": "markdown",
   "id": "37e9ddeb",
   "metadata": {},
   "source": [
    "### Prophet (simple)__demandes"
   ]
  },
  {
   "cell_type": "code",
   "execution_count": null,
   "id": "534ba748",
   "metadata": {},
   "outputs": [],
   "source": [
    "ticket_jours_demandes_prophet=ticket_jours_demandes.reset_index().rename(columns={'index':'ds','nb_tickets':'y'})\n",
    "\n",
    "trainset_simple_demandes_prophet=ticket_jours_demandes_prophet.loc[:'3150',:]\n",
    "testset_simple_demandes_prophet=ticket_jours_demandes_prophet.loc['3150':,:]"
   ]
  },
  {
   "cell_type": "code",
   "execution_count": null,
   "id": "05558cad",
   "metadata": {},
   "outputs": [],
   "source": [
    "model_simple_demandes_prophet = Prophet(daily_seasonality=False)\n",
    "model_simple_demandes_prophet.fit(trainset_simple_demandes_prophet)\n",
    "future_simple_demandes_prophet = model_simple_demandes_prophet.make_future_dataframe(periods=121)\n",
    "forecast_simple_demandes_prophet = model_simple_demandes_prophet.predict(future_simple_demandes_prophet)"
   ]
  },
  {
   "cell_type": "code",
   "execution_count": null,
   "id": "60d4ec08",
   "metadata": {
    "scrolled": true
   },
   "outputs": [],
   "source": [
    "model_simple_demandes_prophet.plot(forecast_simple_demandes_prophet)"
   ]
  },
  {
   "cell_type": "code",
   "execution_count": null,
   "id": "89686d92",
   "metadata": {
    "scrolled": true
   },
   "outputs": [],
   "source": [
    "model_simple_demandes_prophet.plot_components(forecast_simple_demandes_prophet)"
   ]
  },
  {
   "cell_type": "code",
   "execution_count": null,
   "id": "bbbffbe6",
   "metadata": {},
   "outputs": [],
   "source": [
    "predictions_simple_demandes_prophet=pd.DataFrame(forecast_simple_demandes_prophet.loc[3151:,'yhat'])\n",
    "predictions_simple_demandes_prophet.set_index(testset_simple_demandes_prophet['ds'],inplace=True)\n",
    "plt.figure()\n",
    "predictions_simple_demandes_prophet['yhat'].plot(c='yellow',label='predictions')\n",
    "plt.plot(testset_simple_demandes_prophet['ds'],testset_simple_demandes_prophet['y'],c='blue',label='vraies valeurs')\n",
    "plt.legend()\n"
   ]
  },
  {
   "cell_type": "code",
   "execution_count": null,
   "id": "5347a083",
   "metadata": {},
   "outputs": [],
   "source": [
    "(mean_squared_error(predictions_simple_demandes_prophet['yhat'],testset_simple_demandes_prophet['y']),\n",
    "mean_absolute_percentage_error(predictions_simple_demandes_prophet['yhat'],testset_simple_demandes_prophet['y']))"
   ]
  },
  {
   "cell_type": "markdown",
   "id": "a11ac608",
   "metadata": {},
   "source": [
    "60% d'erreurs en moyenne.\n",
    "\n",
    "Ici, Prophet surestime considérablment la quantités de demandes crée pendant les week-end"
   ]
  },
  {
   "cell_type": "markdown",
   "id": "e8453fac",
   "metadata": {},
   "source": [
    "### Prophet tunné__demandes"
   ]
  },
  {
   "cell_type": "markdown",
   "id": "097363b8",
   "metadata": {},
   "source": [
    "On va tenter d'améliorer notre prédiction en jouant sur les paramètres suivants: \n",
    "- saisonnalité mensuelle\n",
    "- indiquer les jours de vacances\n",
    "- traiter les périodes exceptionnelles ( confinement)"
   ]
  },
  {
   "cell_type": "code",
   "execution_count": null,
   "id": "3f3acc4e",
   "metadata": {},
   "outputs": [],
   "source": [
    "ticket_jours_demandes_prophet=ticket_jours_demandes.reset_index().rename(columns={'index':'ds','nb_tickets':'y'})\n",
    "\n",
    "trainset_tunné_demandes_prophet=ticket_jours_demandes_prophet.loc[:'3150',:]\n",
    "testset_tunné_demandes_prophet=ticket_jours_demandes_prophet.loc['3150':,:]"
   ]
  },
  {
   "cell_type": "code",
   "execution_count": null,
   "id": "b3d84dcc",
   "metadata": {},
   "outputs": [],
   "source": [
    "model_tunné_demandes_prophet= Prophet(growth='linear',yearly_seasonality=False\n",
    "                 ,seasonality_prior_scale=25, weekly_seasonality=False\n",
    "                 ).add_seasonality(name='yearly',period=365.25,fourier_order=10\n",
    "                                  ).add_seasonality(name='weekly',period=7,fourier_order=10,prior_scale=50)\n",
    "\n",
    "model_tunné_demandes_prophet.fit(trainset_tunné_demandes_prophet)\n",
    "future_tunné_demandes_prophet= model_tunné_demandes_prophet.make_future_dataframe(periods=121)\n",
    "forecast_tunné_demandes_prophet= model_tunné_demandes_prophet.predict(future_tunné_demandes_prophet)\n"
   ]
  },
  {
   "cell_type": "markdown",
   "id": "b4559a40",
   "metadata": {},
   "source": [
    "model_tunné_demandes_prophet.plot(forecast_tunné_demandes_prophet)"
   ]
  },
  {
   "cell_type": "markdown",
   "id": "5177598f",
   "metadata": {},
   "source": [
    "model_tunné_demandes_prophet.plot_components(forecast_tunné_demandes_prophet)"
   ]
  },
  {
   "cell_type": "code",
   "execution_count": null,
   "id": "f1d26c55",
   "metadata": {
    "scrolled": true
   },
   "outputs": [],
   "source": [
    "predictions_tunné_demandes_prophet=pd.DataFrame(forecast_tunné_demandes_prophet.loc[3151:,'yhat'])\n",
    "predictions_tunné_demandes_prophet.set_index(testset_tunné_demandes_prophet['ds'],inplace=True)\n",
    "plt.figure()\n",
    "predictions_tunné_demandes_prophet['yhat'].plot(c='yellow',label='predictions')\n",
    "plt.plot(testset_tunné_demandes_prophet['ds'],testset_tunné_demandes_prophet['y'],c='blue',label='vraies valeurs')\n",
    "plt.legend()"
   ]
  },
  {
   "cell_type": "code",
   "execution_count": null,
   "id": "6ed47c40",
   "metadata": {},
   "outputs": [],
   "source": [
    "(mean_squared_error(predictions_tunné_demandes_prophet['yhat'],testset_tunné_demandes_prophet['y']),\n",
    "mean_absolute_percentage_error(predictions_tunné_demandes_prophet['yhat'],testset_tunné_demandes_prophet['y']))"
   ]
  },
  {
   "cell_type": "markdown",
   "id": "94cb89de",
   "metadata": {},
   "source": [
    "#### (Voir comment améliorer ces modèles avec Vladimir)"
   ]
  },
  {
   "cell_type": "markdown",
   "id": "53ac3679",
   "metadata": {},
   "source": [
    "### SARIMA et auto-arima"
   ]
  },
  {
   "cell_type": "markdown",
   "id": "6c1fd044",
   "metadata": {},
   "source": [
    "#### test de stationnarité"
   ]
  },
  {
   "cell_type": "code",
   "execution_count": null,
   "id": "c002983f",
   "metadata": {},
   "outputs": [],
   "source": [
    "result_incidents = adfuller(ticket_jours_incidents['nb_tickets'].values)\n",
    "result_demandes = adfuller(ticket_jours_demandes['nb_tickets'].values)\n",
    "print(result_incidents[1],result_demandes[1])"
   ]
  },
  {
   "cell_type": "markdown",
   "id": "17acfa04",
   "metadata": {},
   "source": [
    "Dans les deux cas la p-value est assez négligeable, on peut donc considerer les données comme étant stationnaires"
   ]
  },
  {
   "cell_type": "code",
   "execution_count": null,
   "id": "e217d885",
   "metadata": {},
   "outputs": [],
   "source": []
  }
 ],
 "metadata": {
  "kernelspec": {
   "display_name": "Python 3 (ipykernel)",
   "language": "python",
   "name": "python3"
  },
  "language_info": {
   "codemirror_mode": {
    "name": "ipython",
    "version": 3
   },
   "file_extension": ".py",
   "mimetype": "text/x-python",
   "name": "python",
   "nbconvert_exporter": "python",
   "pygments_lexer": "ipython3",
   "version": "3.9.16"
  }
 },
 "nbformat": 4,
 "nbformat_minor": 5
}
