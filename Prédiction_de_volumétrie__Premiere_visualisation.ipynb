{
 "cells": [
  {
   "cell_type": "markdown",
   "id": "71a65222",
   "metadata": {},
   "source": [
    "# PREDICTION DE VOLUMETRIE__PREMIERE VISUALISATION"
   ]
  },
  {
   "cell_type": "markdown",
   "id": "c17b1f82",
   "metadata": {},
   "source": [
    "**C'est un notebook où je teste des choses, les codes que j'ai utilisés et que j'ai présentés dans mon ppt et dans mon rapport sont dans le notebook \"analyse de la source des tickets\"**"
   ]
  },
  {
   "cell_type": "markdown",
   "id": "21ecaf00",
   "metadata": {},
   "source": [
    "### imports des modules et du dataset"
   ]
  },
  {
   "cell_type": "code",
   "execution_count": null,
   "id": "69a0a608",
   "metadata": {},
   "outputs": [],
   "source": [
    "import numpy as np\n",
    "import os\n",
    "import seaborn as sns\n",
    "import pandas as pd\n",
    "import matplotlib.pyplot as plt\n",
    "import warnings\n",
    "from prophet import Prophet\n",
    "import statsmodels.api as sm\n",
    "from sklearn.metrics import mean_squared_error,mean_absolute_percentage_error, mean_absolute_error\n",
    "warnings.filterwarnings(\"ignore\")\n",
    "from pmdarima import auto_arima\n",
    "from statsmodels.tsa.seasonal import seasonal_decompose\n",
    "from statsmodels.tsa.stattools import adfuller\n",
    "from statsmodels.tsa.arima_model import ARIMA\n",
    "import math\n",
    "from statsmodels.tsa.statespace.sarimax import SARIMAX \n",
    "from pmdarima import auto_arima\n",
    "import xgboost as xgb\n",
    "from xgboost import plot_importance, plot_tree\n",
    "from pandas.plotting import autocorrelation_plot\n"
   ]
  },
  {
   "cell_type": "code",
   "execution_count": null,
   "id": "4a3ef993",
   "metadata": {
    "scrolled": true
   },
   "outputs": [],
   "source": [
    "os.chdir('C:\\\\Users\\\\matthias.picard\\\\Downloads\\\\données consort')\n",
    "statique=pd.read_excel('Static_data.xlsx')"
   ]
  },
  {
   "cell_type": "code",
   "execution_count": null,
   "id": "28698fc9",
   "metadata": {
    "scrolled": true
   },
   "outputs": [],
   "source": [
    "statique.head()"
   ]
  },
  {
   "cell_type": "code",
   "execution_count": null,
   "id": "00105164",
   "metadata": {
    "scrolled": true
   },
   "outputs": [],
   "source": [
    "statique.Location.value_counts()"
   ]
  },
  {
   "cell_type": "markdown",
   "id": "daa3cc8f",
   "metadata": {},
   "source": [
    "Nous allons extraire de cette base de données le nombre de tickets par jour/heures/demi-journées. Notre repère temporel sera la colonne Date_deb "
   ]
  },
  {
   "cell_type": "code",
   "execution_count": null,
   "id": "3bb49774",
   "metadata": {},
   "outputs": [],
   "source": [
    "#.values est pratique pour convertir une serie en tableau en gardant les memes informations\n",
    "type(statique['Type_Ticket'].values)"
   ]
  },
  {
   "cell_type": "markdown",
   "id": "08b87217",
   "metadata": {},
   "source": [
    "### Préparation des données"
   ]
  },
  {
   "cell_type": "markdown",
   "id": "4b2b5823",
   "metadata": {},
   "source": [
    "#### preparation de la colonne 'Date_deb'"
   ]
  },
  {
   "cell_type": "code",
   "execution_count": null,
   "id": "fd80e66c",
   "metadata": {
    "scrolled": false
   },
   "outputs": [],
   "source": [
    "statique.drop(np.arange(97253,97970,1), inplace=True)"
   ]
  },
  {
   "cell_type": "markdown",
   "id": "f863c574",
   "metadata": {},
   "source": [
    "entre les lignes 97253 et 97970 de la colonne Date_deb on ne retrouve que des nan. On est obligé de les enlever pour convertir la colonne en DateTime et s'en servir comme index temporelle"
   ]
  },
  {
   "cell_type": "code",
   "execution_count": null,
   "id": "aabc2741",
   "metadata": {
    "scrolled": true
   },
   "outputs": [],
   "source": [
    "statique['Date_deb']=pd.to_datetime(statique['Date_deb'])\n",
    "\n",
    "statique_heures=statique.copy()\n",
    "statique_heures['Date_deb'] = statique_heures.Date_deb.dt.floor(freq='H') \n",
    "statique_heures.set_index('Date_deb',inplace=True)\n",
    "\n",
    "\n",
    "statique_demijours=statique.copy()\n",
    "statique_demijours['Date_deb'] = statique_demijours.Date_deb.dt.floor(freq='12h') \n",
    "statique_demijours.set_index('Date_deb',inplace=True)\n",
    "\n",
    "\n",
    "statique_jours=statique.copy()\n",
    "statique_jours['Date_deb'] = statique_jours.Date_deb.dt.floor(freq='D') \n",
    "statique_jours.set_index('Date_deb',inplace=True)\n"
   ]
  },
  {
   "cell_type": "markdown",
   "id": "eebc5c08",
   "metadata": {},
   "source": [
    "On met Date_deb en index, et on regroupe les tickets selon l'heure/le jour/ la moitié de journée de leur création"
   ]
  },
  {
   "cell_type": "markdown",
   "id": "212cbc33",
   "metadata": {},
   "source": [
    "#### visualisation des nan"
   ]
  },
  {
   "cell_type": "code",
   "execution_count": null,
   "id": "cae7f65e",
   "metadata": {},
   "outputs": [],
   "source": [
    "plt.figure(figsize=(20,10))\n",
    "sns.heatmap(statique_heures.isna(), cbar=False)"
   ]
  },
  {
   "cell_type": "code",
   "execution_count": null,
   "id": "8ae655e0",
   "metadata": {
    "scrolled": true
   },
   "outputs": [],
   "source": [
    "(statique_heures.isna().sum()/statique_heures.shape[0]).sort_values(ascending=True)"
   ]
  },
  {
   "cell_type": "markdown",
   "id": "9516016b",
   "metadata": {},
   "source": [
    "## Dataset géneral"
   ]
  },
  {
   "cell_type": "markdown",
   "id": "5f0a9a74",
   "metadata": {},
   "source": [
    "#### creation d'un dataset avec le nombre de ticket crées par journées"
   ]
  },
  {
   "cell_type": "code",
   "execution_count": null,
   "id": "a085475f",
   "metadata": {
    "scrolled": true
   },
   "outputs": [],
   "source": [
    "nb_ticket_jours=pd.DataFrame(statique_jours.index.value_counts())\n",
    "ticket_jours=nb_ticket_jours.reset_index().sort_values(by='index').set_index('index').asfreq('d')\n",
    "ticket_jours[ticket_jours.isna()]=0\n",
    "ticket_jours.rename(columns={'Date_deb':'nb_tickets'},inplace=True)\n",
    "ticket_jours"
   ]
  },
  {
   "cell_type": "markdown",
   "id": "3e446f26",
   "metadata": {},
   "source": [
    "On crée un dataset qui nous donne le nombre de ticket crées par jours entre 2011-10-17 et 2020-09-28"
   ]
  },
  {
   "cell_type": "markdown",
   "id": "4823185e",
   "metadata": {},
   "source": [
    "####  creation d'un dataset avec le nombre de tickets créer par heures"
   ]
  },
  {
   "cell_type": "code",
   "execution_count": null,
   "id": "753b39dd",
   "metadata": {
    "scrolled": true
   },
   "outputs": [],
   "source": [
    "nb_ticket_heures=pd.DataFrame(statique_heures.index.value_counts())\n",
    "ticket_heures=nb_ticket_heures.reset_index().sort_values(by='index').set_index('index').asfreq('h')\n",
    "ticket_heures[ticket_heures.isna()]=0\n",
    "ticket_heures.rename(columns={'Date_deb':'nb_tickets'},inplace=True)\n",
    "ticket_heures"
   ]
  },
  {
   "cell_type": "markdown",
   "id": "f4bb0824",
   "metadata": {},
   "source": [
    "Pareil, mais par heure cette fois"
   ]
  },
  {
   "cell_type": "markdown",
   "id": "40ada10b",
   "metadata": {},
   "source": [
    "### Data visualisation"
   ]
  },
  {
   "cell_type": "markdown",
   "id": "34c8a42f",
   "metadata": {},
   "source": [
    "#### nombre de tickets crées par heures,demi journées et journées, sur toute la période"
   ]
  },
  {
   "cell_type": "code",
   "execution_count": null,
   "id": "55e34a82",
   "metadata": {
    "scrolled": true
   },
   "outputs": [],
   "source": [
    "dataframe=[statique_heures,statique_demijours,statique_jours]\n",
    "\n",
    "for df in dataframe:\n",
    "    plt.figure()\n",
    "    sns.histplot(df.index,bins=5000)\n"
   ]
  },
  {
   "cell_type": "markdown",
   "id": "02d76d8c",
   "metadata": {},
   "source": [
    "On observe une tendance à la hausse assez clair dans tout les graphes jusqu'à 2020, où le nombre de tickt s'est mis à baisser"
   ]
  },
  {
   "cell_type": "markdown",
   "id": "eef92e82",
   "metadata": {},
   "source": [
    "#### Nombre de tickets crée par jours sur toute la période"
   ]
  },
  {
   "cell_type": "code",
   "execution_count": null,
   "id": "61b690ef",
   "metadata": {},
   "outputs": [],
   "source": [
    "ticket_jours.plot()"
   ]
  },
  {
   "cell_type": "markdown",
   "id": "c8a19413",
   "metadata": {},
   "source": [
    "**repartition des tickets par mois**"
   ]
  },
  {
   "cell_type": "code",
   "execution_count": null,
   "id": "ab6e8aab",
   "metadata": {
    "scrolled": true
   },
   "outputs": [],
   "source": [
    "ticket_heures['nb_tickets'].resample('M').sum().plot()"
   ]
  },
  {
   "cell_type": "markdown",
   "id": "d90ee993",
   "metadata": {},
   "source": [
    "(graphe semblable à ceux du dessus)"
   ]
  },
  {
   "cell_type": "markdown",
   "id": "ab6e0e41",
   "metadata": {},
   "source": [
    "#### repartition des tickets par heures de la journées ( en moyenne)"
   ]
  },
  {
   "cell_type": "code",
   "execution_count": null,
   "id": "e6ec98f5",
   "metadata": {},
   "outputs": [],
   "source": [
    "rpj=ticket_heures.groupby(ticket_heures.index.hour).mean()\n",
    "sns.barplot(data=rpj.reset_index(),x='index',y='nb_tickets',color='orange')"
   ]
  },
  {
   "cell_type": "markdown",
   "id": "12000cfb",
   "metadata": {},
   "source": [
    "Les heures du matin (entre 9h et 12h) sont celles où le nombre de tickets crées par heure est la plus importante. Ce nombre chute entre 12h et 13h ( pause déjeuner?), avant de remonter l'après-lidi, mais des proportions inférieurs au matin"
   ]
  },
  {
   "cell_type": "markdown",
   "id": "038fb5bd",
   "metadata": {},
   "source": [
    "#### repartition des tickets par mois ( en moyenne)"
   ]
  },
  {
   "cell_type": "code",
   "execution_count": null,
   "id": "c002d826",
   "metadata": {
    "scrolled": true
   },
   "outputs": [],
   "source": [
    "rpm=ticket_heures.resample('M').sum()\n",
    "rpm2=rpm.groupby(rpm.index.month).mean()\n",
    "sns.barplot(data=rpm2.reset_index(),y='nb_tickets',x='index',color='red')"
   ]
  },
  {
   "cell_type": "markdown",
   "id": "6b249be6",
   "metadata": {},
   "source": [
    "Le nombre de ticket crées par heure est assez homogène. On constate que les mois de vacances voient moins de tickets crées et que les mois de rentrée ( janvier et septembre)sont ceux avec le plus de tickets crées"
   ]
  },
  {
   "cell_type": "markdown",
   "id": "9c34b61c",
   "metadata": {},
   "source": [
    "#### repartition des tickets  par heures en moyenne selon les jour de la semaine"
   ]
  },
  {
   "cell_type": "code",
   "execution_count": null,
   "id": "f3236666",
   "metadata": {
    "scrolled": false
   },
   "outputs": [],
   "source": [
    "ticket_heures_jds=ticket_heures.copy()\n",
    "ticket_heures_jds['jours de la semaine']=ticket_heures_jds.index.dayofweek\n",
    "jds=ticket_heures_jds.groupby(['jours de la semaine']).mean()\n",
    "sns.barplot(data=jds.reset_index(),y='nb_tickets',x='jours de la semaine',color='blue')"
   ]
  },
  {
   "cell_type": "markdown",
   "id": "9b0ff9ba",
   "metadata": {},
   "source": [
    "(ce graphe ne represente pas le nombre de tickets crées par jours de la semaine en moyenne, mais le nombre de tickets crées par heures en moyenne lors 'un jour de la semaine')"
   ]
  },
  {
   "cell_type": "markdown",
   "id": "6ad78dcf",
   "metadata": {},
   "source": [
    "Proportion la plus importante lundi, qui baisse progressivement tout au long de la semaine, puis deviens très proche de zéro le week-end"
   ]
  },
  {
   "cell_type": "markdown",
   "id": "b1945e0b",
   "metadata": {},
   "source": [
    "### Prophet simple (par jours)"
   ]
  },
  {
   "cell_type": "markdown",
   "id": "e9c63560",
   "metadata": {},
   "source": [
    "#### creation d'un test_set et d'un train_set"
   ]
  },
  {
   "cell_type": "code",
   "execution_count": null,
   "id": "a6e4963d",
   "metadata": {
    "scrolled": true
   },
   "outputs": [],
   "source": [
    "ticket_jours_prophet=ticket_jours.reset_index().rename(columns={'index':'ds','nb_tickets':'y'})\n",
    "\n",
    "trainset_simple_prophet=ticket_jours_prophet.loc[:'3000',:]\n",
    "testset_simple_prophet=ticket_jours_prophet.loc['3000':,:]\n"
   ]
  },
  {
   "cell_type": "code",
   "execution_count": null,
   "id": "4964b1ef",
   "metadata": {
    "scrolled": true
   },
   "outputs": [],
   "source": [
    "model_simple_prophet = Prophet(daily_seasonality=True)\n",
    "model_simple_prophet.fit(trainset_simple_prophet)\n",
    "future_simple_prophet = model_simple_prophet.make_future_dataframe(periods=271)\n",
    "forecast_simple_prophet = model_simple_prophet.predict(future_simple_prophet)\n"
   ]
  },
  {
   "cell_type": "code",
   "execution_count": null,
   "id": "c1d48280",
   "metadata": {},
   "outputs": [],
   "source": [
    "model_simple_prophet.plot(forecast_simple_prophet)"
   ]
  },
  {
   "cell_type": "code",
   "execution_count": null,
   "id": "262bf213",
   "metadata": {
    "scrolled": true
   },
   "outputs": [],
   "source": [
    "model_simple_prophet.plot_components(forecast_simple_prophet)"
   ]
  },
  {
   "cell_type": "code",
   "execution_count": null,
   "id": "eda6f912",
   "metadata": {
    "scrolled": false
   },
   "outputs": [],
   "source": [
    "predictions_simple_prophet=pd.DataFrame(forecast_simple_prophet.loc[3001:,'yhat'])\n",
    "predictions_simple_prophet.set_index(testset_simple_prophet['ds'],inplace=True)\n",
    "plt.figure()\n",
    "predictions_simple_prophet['yhat'].plot(c='yellow',label='predictions')\n",
    "plt.plot(testset_simple_prophet['ds'],testset_simple_prophet['y'],c='blue',label='vraies valeurs')\n",
    "plt.legend()"
   ]
  },
  {
   "cell_type": "markdown",
   "id": "73994e9b",
   "metadata": {},
   "source": [
    "Prophet prend bien en compte la saisonnalité par jours, et arrive à detecter les fluctuations entre les mois (moins de tickets en août, plus en septembre...). Mais la variance entre chaque jours est trop faible ( d'ailleur, Prophet ne prédira jamais qu'il y aura un jours avec moins de 30 tickets crées). L'espérance de toutes les prédictions est aussi legerement supérieur à celle des valeurs réels. En effet Prophet suit la tendance entre 2011 et 2019, qui montrait une hausse progressive du nombre de ticket, mais il ne prend pas en compte les effets du confinement, qui a fait baisser cette tendance."
   ]
  },
  {
   "cell_type": "code",
   "execution_count": null,
   "id": "6511fb50",
   "metadata": {
    "scrolled": false
   },
   "outputs": [],
   "source": [
    "(mean_squared_error(testset_simple_prophet['y'],predictions_simple_prophet['yhat']),\n",
    "mean_absolute_percentage_error(testset_simple_prophet['y'],predictions_simple_prophet['yhat']))"
   ]
  },
  {
   "cell_type": "markdown",
   "id": "ef963dd9",
   "metadata": {},
   "source": [
    "Le 'mean_absolute_percentage_error' (valeur de droite), a une valeur assez aberrante..."
   ]
  },
  {
   "cell_type": "markdown",
   "id": "30e0088c",
   "metadata": {},
   "source": [
    "### Prophet preprocessé"
   ]
  },
  {
   "cell_type": "code",
   "execution_count": null,
   "id": "1b380485",
   "metadata": {},
   "outputs": [],
   "source": [
    "prophet_test_predict = model.predict(df=pjme_test.reset_index() \\\n",
    "                                   .rename(columns={'Datetime':'ds'}))"
   ]
  },
  {
   "cell_type": "markdown",
   "id": "b8a4f0a5",
   "metadata": {},
   "source": [
    "### Utilisation d'ARIMA"
   ]
  },
  {
   "cell_type": "markdown",
   "id": "3a0ec5d9",
   "metadata": {},
   "source": [
    "ARIMA ne peut marcher que sur des modèles stationnaires, c'est à dire que la variance, l'espérance, et la covariance doivent rester stable au cours du temps. On ne doit pas ooserver de tendance à la hausse, ni à la baisse, la période doit rester constante et  l'amplitude du signal à chaque période doit rester la même.\n",
    "\n",
    "On a déja pu constater qu'il existait une tendance dans nos donnée. On pourrait donc considérer que nous ne sommes pas dans un cas stationnaire. Pour vérifier cela nous allons aussi effectuer un test ADF. Si la p-value est inférieur à 0,05, on peut considerer que nos données sont stationnaires"
   ]
  },
  {
   "cell_type": "markdown",
   "id": "29890dd6",
   "metadata": {},
   "source": [
    "####  (test ADF)"
   ]
  },
  {
   "cell_type": "code",
   "execution_count": null,
   "id": "85241ff8",
   "metadata": {
    "scrolled": false
   },
   "outputs": [],
   "source": [
    "result = adfuller(ticket_jours['nb_tickets'].values)\n",
    "result"
   ]
  },
  {
   "cell_type": "markdown",
   "id": "18e3c755",
   "metadata": {},
   "source": [
    "p-value: 0.01133580672767429 (deuxième valeur dans le tuple). Pourtant, on avait identifier une tendance! Dans le doute nous allons transformer nos données de sorte à les rendre stationnaire: "
   ]
  },
  {
   "cell_type": "markdown",
   "id": "79c51254",
   "metadata": {},
   "source": [
    "#### stationnarisation ( même si le test ADF semble déja valider la stationnarité)"
   ]
  },
  {
   "cell_type": "markdown",
   "id": "ca7a5983",
   "metadata": {},
   "source": [
    "Tout les graphes representent les tickets crées par mois pour plus de lisibilité (les données sont réparties par jours)"
   ]
  },
  {
   "cell_type": "markdown",
   "id": "c0d6533e",
   "metadata": {},
   "source": [
    "Données de base:"
   ]
  },
  {
   "cell_type": "code",
   "execution_count": null,
   "id": "420294d4",
   "metadata": {},
   "outputs": [],
   "source": [
    "ticket_jours['nb_tickets'].resample('M').sum().plot()"
   ]
  },
  {
   "cell_type": "code",
   "execution_count": null,
   "id": "240315a5",
   "metadata": {},
   "outputs": [],
   "source": [
    "ticket_jours_arima=ticket_jours.copy()"
   ]
  },
  {
   "cell_type": "markdown",
   "id": "c06bddf3",
   "metadata": {},
   "source": [
    "On va d'abord enlever la variation de la variance au cours du temps, pour cela, on applique la fonction racine-carré"
   ]
  },
  {
   "cell_type": "code",
   "execution_count": null,
   "id": "be9789a1",
   "metadata": {
    "scrolled": false
   },
   "outputs": [],
   "source": [
    "#transformation\n",
    "ticket_jours_arima['nb_tickets_sqrt'] = np.sqrt(ticket_jours_arima['nb_tickets'])\n",
    "ticket_jours_arima['nb_tickets_sqrt'].resample('M').sum().plot()"
   ]
  },
  {
   "cell_type": "markdown",
   "id": "c314db47",
   "metadata": {},
   "source": [
    "Puis on enleve la saisonnalité en utilisant une fonction de différentiation, qui va effacer les motifs récurrents"
   ]
  },
  {
   "cell_type": "code",
   "execution_count": null,
   "id": "be08bd9d",
   "metadata": {
    "scrolled": true
   },
   "outputs": [],
   "source": [
    "#différentiation\n",
    "ticket_jours_arima_diff = np.diff(ticket_jours_arima['nb_tickets_sqrt'])\n",
    "ticket_jours_arima['nb_tickets_sqrt_diff']=np.append([0], ticket_jours_arima_diff)\n",
    "ticket_jours_arima['nb_tickets_sqrt_diff'].resample('M').sum().plot()"
   ]
  },
  {
   "cell_type": "code",
   "execution_count": null,
   "id": "d7b82aea",
   "metadata": {},
   "outputs": [],
   "source": [
    "plt.plot(ticket_jours_arima['nb_tickets_sqrt_diff'].resample('M').sum() - ticket_jours_arima['nb_tickets_sqrt_diff'].shift(12).resample('M').sum()) "
   ]
  },
  {
   "cell_type": "markdown",
   "id": "04421481",
   "metadata": {},
   "source": [
    "On refait un test ADF: "
   ]
  },
  {
   "cell_type": "code",
   "execution_count": null,
   "id": "00d110e5",
   "metadata": {
    "scrolled": true
   },
   "outputs": [],
   "source": [
    " adfuller(ticket_jours_arima['nb_tickets_sqrt_diff'].values)"
   ]
  },
  {
   "cell_type": "markdown",
   "id": "f790e8e3",
   "metadata": {},
   "source": [
    "La p-value est maintenant completement négligeable, essayons d'appliquer le modèle ARIMA avec nos nouvelles données"
   ]
  },
  {
   "cell_type": "markdown",
   "id": "26650e46",
   "metadata": {},
   "source": [
    "#### test arima"
   ]
  },
  {
   "cell_type": "code",
   "execution_count": null,
   "id": "09244f16",
   "metadata": {},
   "outputs": [],
   "source": [
    "trainset_simple_arima=ticket_jours_arima.reset_index().loc[:'3000',:].set_index('index')\n",
    "testset_simple_arima=ticket_jours_arima.reset_index().loc['3000':,:].set_index('index')"
   ]
  },
  {
   "cell_type": "markdown",
   "id": "47a78fac",
   "metadata": {},
   "source": [
    "(impossible d'appliquer ARIMA avec nos données transformées, on applique ARIMA sur les données de base ci-dessous, en attendant )"
   ]
  },
  {
   "cell_type": "code",
   "execution_count": null,
   "id": "5a187d2a",
   "metadata": {
    "scrolled": true
   },
   "outputs": [],
   "source": [
    "model_arima = ARIMA(endog=trainset_simple_arima['nb_tickets'], order=(1,1,1))\n",
    "model_arima_fit = model_arima.fit()\n",
    "\n",
    "y_pred, se, conf = model_arima_fit.forecast(271)\n",
    "\n",
    "print(mean_absolute_percentage_error(testset_simple_arima['nb_tickets_sqrt_diff'], y_pred),\n",
    " math.sqrt(mean_squared_error(testset_simple_arima['nb_tickets_sqrt_diff'], y_pred)))"
   ]
  },
  {
   "cell_type": "code",
   "execution_count": null,
   "id": "d768d1f5",
   "metadata": {
    "scrolled": true
   },
   "outputs": [],
   "source": [
    "plt.figure()\n",
    "plt.plot(testset_simple['ds'],y_pred,c='yellow',label='predictions')\n",
    "plt.plot(testset_simple['ds'],testset_simple['y'],c='blue',label='vraies valeurs')\n",
    "plt.legend()"
   ]
  },
  {
   "cell_type": "markdown",
   "id": "78c2b926",
   "metadata": {},
   "source": [
    "ARIMA ne detecte aucune saisonnalité et se contente de rester au niveau de l'espérance...."
   ]
  },
  {
   "cell_type": "markdown",
   "id": "a6f53e55",
   "metadata": {},
   "source": [
    "#### AUTO-ARIMA pour SARIMAX"
   ]
  },
  {
   "cell_type": "code",
   "execution_count": null,
   "id": "203f0bf6",
   "metadata": {
    "scrolled": true
   },
   "outputs": [],
   "source": [
    "model = auto_arima(trainset_simple_arima['nb_tickets_sqrt_diff'], start_p=1, start_q=1,\n",
    "                      test='adf',       # use adftest to find optimal 'd'\n",
    "                      max_p=3, max_q=3, # maximum p and q\n",
    "                      m=12,              # frequency of series\n",
    "                      start_d=0,max_d=2,           # let model determine 'd'\n",
    "                      seasonal=True,     # No Seasonality\n",
    "                      P=1, \n",
    "                      D=1, \n",
    "                       Q=1,\n",
    "                      trace=True,\n",
    "                      error_action='ignore',  \n",
    "                      suppress_warnings=True, \n",
    "                      stepwise=True)\n",
    "\n",
    "print(model.summary())"
   ]
  },
  {
   "cell_type": "code",
   "execution_count": null,
   "id": "e7f32843",
   "metadata": {
    "scrolled": true
   },
   "outputs": [],
   "source": [
    "model_auto_sarimax = SARIMAX(endog=trainset_simple_arima['nb_tickets'], order=(3,0,2),seasonal_order=(2,1,0,12))\n",
    "model_auto_sarimax_fit = model_auto_sarimax.fit()\n",
    "\n",
    "predictions_sarimax1= model_auto_sarimax_fit.forecast(271)"
   ]
  },
  {
   "cell_type": "code",
   "execution_count": null,
   "id": "e041cee4",
   "metadata": {
    "scrolled": false
   },
   "outputs": [],
   "source": [
    "plt.figure()\n",
    "plt.plot(testset_simple_arima.index,predictions_sarimax1,c='yellow',label='predictions')\n",
    "plt.plot(testset_simple_arima.index,testset_simple_arima['nb_tickets'],c='blue',label='vraies valeurs')\n",
    "plt.legend()"
   ]
  },
  {
   "cell_type": "code",
   "execution_count": null,
   "id": "e6a48e1d",
   "metadata": {},
   "outputs": [],
   "source": [
    "print(mean_absolute_percentage_error(testset_simple_arima['nb_tickets'], predictions_sarimax1),\n",
    " math.sqrt(mean_squared_error(testset_simple_arima['nb_tickets'], predictions_sarimax1)))"
   ]
  },
  {
   "cell_type": "markdown",
   "id": "a7e5b960",
   "metadata": {},
   "source": [
    "Le modèle prend mieux en compte la saisonnalité mais semble toujours surestimé le nombre de ticket crée. De plus il affiche des valeurs négatives."
   ]
  }
 ],
 "metadata": {
  "kernelspec": {
   "display_name": "Python 3 (ipykernel)",
   "language": "python",
   "name": "python3"
  },
  "language_info": {
   "codemirror_mode": {
    "name": "ipython",
    "version": 3
   },
   "file_extension": ".py",
   "mimetype": "text/x-python",
   "name": "python",
   "nbconvert_exporter": "python",
   "pygments_lexer": "ipython3",
   "version": "3.9.16"
  }
 },
 "nbformat": 4,
 "nbformat_minor": 5
}
